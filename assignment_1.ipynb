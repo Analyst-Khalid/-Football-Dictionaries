{
  "metadata": {
    "kernelspec": {
      "name": "python",
      "display_name": "Python (Pyodide)",
      "language": "python"
    },
    "language_info": {
      "codemirror_mode": {
        "name": "python",
        "version": 3
      },
      "file_extension": ".py",
      "mimetype": "text/x-python",
      "name": "python",
      "nbconvert_exporter": "python",
      "pygments_lexer": "ipython3",
      "version": "3.8"
    }
  },
  "nbformat_minor": 4,
  "nbformat": 4,
  "cells": [
    {
      "cell_type": "code",
      "source": "def players_as_dictionaries(squads_list):\n    users = []\n    for user in squads_list:\n        user1 = {\n            'number': user[0],\n            'position': user[1],\n            'name': user[2],\n            'date_of_birth': user[3],\n            'caps': user[4],\n            'club': user[5],\n            'country': user[6],\n            'club_country': user[7],\n            'year': user[8]\n        }\n        users.append(user1)\n    return users\nfrom squads_data import SQUADS_DATA\nplayers_as_dictionaries(SQUADS_DATA)",
      "metadata": {
        "trusted": true
      },
      "outputs": [
        {
          "execution_count": 3,
          "output_type": "execute_result",
          "data": {
            "text/plain": "[{'number': '1',\n  'position': 'GK',\n  'name': 'Juan Botasso',\n  'date_of_birth': '(1908-10-23)23 October 1908 (aged 21)',\n  'caps': '',\n  'club': 'Quilmes',\n  'country': 'Argentina',\n  'club_country': 'Argentina',\n  'year': '1930'},\n {'number': '9',\n  'position': 'FW',\n  'name': 'Roberto Cherro',\n  'date_of_birth': '(1907-02-23)23 February 1907 (aged 23)',\n  'caps': '',\n  'club': 'Boca Juniors',\n  'country': 'Argentina',\n  'club_country': 'Argentina',\n  'year': '1930'},\n {'number': '-',\n  'position': 'MF',\n  'name': 'Pierre Braine',\n  'date_of_birth': '(1900-10-26)26 October 1900 (aged 29)',\n  'caps': '42',\n  'club': 'Royal Beerschot AC',\n  'country': 'Belgium',\n  'club_country': 'Belgium',\n  'year': '1930'},\n {'number': '-',\n  'position': 'MF',\n  'name': 'Alexis Chantraine',\n  'date_of_birth': '(1901-03-16)16 March 1901 (aged 29)',\n  'caps': '0',\n  'club': 'Royal FC Liegeois',\n  'country': 'Belgium',\n  'club_country': 'Belgium',\n  'year': '1930'},\n {'number': '-',\n  'position': 'GK',\n  'name': 'Jean De Bie',\n  'date_of_birth': '(1892-05-09)9 May 1892 (aged 38)',\n  'caps': '37',\n  'club': 'Royal Racing Club de Bruxelles',\n  'country': 'Belgium',\n  'club_country': 'Belgium',\n  'year': '1930'},\n {'number': '-',\n  'position': 'MF',\n  'name': 'Oscar',\n  'date_of_birth': '(1991-09-09)9 September 1991 (aged 22)',\n  'caps': '29',\n  'club': 'Chelsea',\n  'country': 'Brazil',\n  'club_country': 'England',\n  'year': '2010'},\n {'number': '-',\n  'position': 'MF',\n  'name': 'Paulinho',\n  'date_of_birth': '(1988-07-25)25 July 1988 (aged 25)',\n  'caps': '25',\n  'club': 'Tottenham Hotspur',\n  'country': 'Brazil',\n  'club_country': 'England',\n  'year': '2010'},\n {'number': '-',\n  'position': 'MF',\n  'name': 'Hernanes',\n  'date_of_birth': '(1985-05-29)29 May 1985 (aged 29)',\n  'caps': '23',\n  'club': 'Internazionale',\n  'country': 'Brazil',\n  'club_country': 'Italy',\n  'year': '2014'},\n {'number': '-',\n  'position': 'MF',\n  'name': 'Luiz Gustavo',\n  'date_of_birth': '(1987-07-23)23 July 1987 (aged 26)',\n  'caps': '17',\n  'club': 'VfL Wolfsburg',\n  'country': 'Brazil',\n  'club_country': 'Germany',\n  'year': '2014'},\n {'number': '-',\n  'position': 'MF',\n  'name': 'Fernandinho',\n  'date_of_birth': '(1985-05-04)4 May 1985 (aged 29)',\n  'caps': '6',\n  'club': 'Manchester City',\n  'country': 'Brazil',\n  'club_country': 'England',\n  'year': '2014'},\n {'number': '-',\n  'position': 'MF',\n  'name': 'Willian',\n  'date_of_birth': '(1988-08-09)9 August 1988 (aged 25)',\n  'caps': '5',\n  'club': 'Chelsea',\n  'country': 'Brazil',\n  'club_country': 'England',\n  'year': '2014'},\n {'number': '-',\n  'position': 'FW',\n  'name': 'Lee Keun-Ho',\n  'date_of_birth': '(1985-04-11)11 April 1985 (aged 29)',\n  'caps': '62',\n  'club': 'Sangju Sangmu',\n  'country': 'South Korea',\n  'club_country': 'South Korea',\n  'year': '2014'},\n {'number': '-',\n  'position': 'FW',\n  'name': 'Koo Ja-Cheol',\n  'date_of_birth': '(1989-02-27)27 February 1989 (aged 25)',\n  'caps': '35',\n  'club': 'Mainz 05',\n  'country': 'South Korea',\n  'club_country': 'Germany',\n  'year': '2014'},\n {'number': '-',\n  'position': 'FW',\n  'name': 'Kim Shin-Wook',\n  'date_of_birth': '(1988-04-14)14 April 1988 (aged 26)',\n  'caps': '26',\n  'club': 'Ulsan Hyundai',\n  'country': 'South Korea',\n  'club_country': 'South Korea',\n  'year': '2014'}]"
          },
          "metadata": {}
        }
      ],
      "execution_count": 3
    }
  ]
}